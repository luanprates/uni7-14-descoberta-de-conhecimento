{
 "cells": [
  {
   "cell_type": "markdown",
   "metadata": {},
   "source": [
    "# Exercicio de Clusterização\n",
    "\n",
    "\n",
    "* Vamos trabalhar com o dataset LendingClub, dado disponível na aula-2 e considera uma das situações:\n",
    "    * Considera a variável alvo not.fully.paid\n",
    "    * Crie uma nova variável chamada ds_analyze_label com a seguinte configuração \n",
    "        * Quando not.fully.paid=1 e credit.policy=1, ds_analyze_label = lend\n",
    "        * Quando not.fully.paid=0 e credit.policy=1, ds_analyze_label = analyze_risk_1\n",
    "        * Quando not.fully.paid=1 e credit.policy=0, ds_analyze_label = analyze_risk_2\n",
    "        * Quando not.fully.paid=0 e credit.policy=0, ds_analyze_label = not_lend"
   ]
  },
  {
   "cell_type": "markdown",
   "metadata": {},
   "source": [
    "# Atividades\n",
    "\n",
    " * **1. Aplique os algoritmos [K-means](http://scikit-learn.org/stable/modules/generated/sklearn.cluster.KMeans.html) **\n",
    "     * *1.1 Análise os resultados, utilizando as seguintes métricas de avaliação do clusteres [(completeness e homogeneity)](http://scikit-learn.org/stable/modules/clustering.html#homogeneity-completeness-and-v-measure), e experimente variar alguns hiperparâmetros, por exemplo, a medida de distância. Não esqueça de controlar os seus experimentos, eles são importantes para você se manter organizado*\n",
    " * **2. Aplique o método da [silhueta](http://scikit-learn.org/stable/modules/generated/sklearn.metrics.silhouette_score.html#sklearn.metrics.silhouette_score) e verifique a qualidade do cluster gerado ** \n",
    " * **3. Varie o número de K, hiper parâmetro do K-Means e identifique o melhor valor considerando o método da silhueta. **\n",
    " * **4. Varie o número de K, hiper parâmetro do K-Means e identifique o melhor valor considerando o método da curva do cotovelo, [veja este exemplo](https://pythonprogramminglanguage.com/kmeans-elbow-method/). O resultado obtido foi igual ao aplicado na questão 3?**\n",
    " * **5. Recupere os centroídes e faça um radar chart considerando os centroídes, [veja este exemplo](https://python-graph-gallery.com/391-radar-chart-with-several-individuals/)**\n",
    " * *Para recuperar os centroídes use kmeans.cluster_centers_ *\n",
    " * *5.1 Os resultados parecem favoráveis os centroídes são de fato distintos? Como você interpreta os dados com base nesta informação?*\n",
    " * **6. Recupere as amostras de cada cluster e faça um parallel coordinates, [veja este exemplo](https://python-graph-gallery.com/150-parallel-plot-with-pandas/) ou [este](https://jovianlin.io/data-visualization-seaborn-part-2/)**\n",
    " * *6.1 Os resultados parecem favoráveis os centroídes são de fato distintos? Como você interpreta os dados com base nesta informação?*\n",
    " * **7. Crie imagens do cluster comparando os dados originais dos dados definidos pelo cluster**\n",
    " * **8. Refaça todos passos de 1 a 7, quando aplicáveis, considerando o algoritmo [DBSCAN](http://scikit-learn.org/stable/modules/generated/sklearn.cluster.DBSCAN.html), [veja este exemplo](http://scikit-learn.org/stable/auto_examples/cluster/plot_dbscan.html) e seus hiperparâmetros numMinPoints e eps**\n",
    " * **9. Qual o melhor algoritmo de clusterização? Justifique sua resposta**"
   ]
  },
  {
   "cell_type": "markdown",
   "metadata": {},
   "source": [
    "# Bom trabalho!"
   ]
  }
 ],
 "metadata": {
  "anaconda-cloud": {},
  "kernelspec": {
   "display_name": "Python [default]",
   "language": "python",
   "name": "python3"
  },
  "language_info": {
   "codemirror_mode": {
    "name": "ipython",
    "version": 3
   },
   "file_extension": ".py",
   "mimetype": "text/x-python",
   "name": "python",
   "nbconvert_exporter": "python",
   "pygments_lexer": "ipython3",
   "version": "3.5.2"
  }
 },
 "nbformat": 4,
 "nbformat_minor": 0
}
