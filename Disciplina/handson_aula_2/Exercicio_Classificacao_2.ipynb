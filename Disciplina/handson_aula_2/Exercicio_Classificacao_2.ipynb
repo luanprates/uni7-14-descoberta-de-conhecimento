{
 "cells": [
  {
   "cell_type": "markdown",
   "metadata": {},
   "source": [
    "# Exercicio de Classificação\n",
    "\n",
    "\n",
    "Para este projeto, exploraremos os dados disponíveis publicamente em [LendingClub.com](www.lendingclub.com). O Lending Club conecta pessoas que precisam de dinheiro (mutuários) às pessoas que têm dinheiro (investidores). Um investidor, deseja investir apenas em pessoas que tenham um perfil de alta probabilidade para pagar de volta. Vamos tentar criar um modelo que ajude a prever isso.\n",
    "\n",
    "Usaremos dados de empréstimos de 2007-2010 e tentaremos classificar e prever se o devedor pagou ou não o empréstimo na íntegra, ou seja, nossa variável alvo será **not.fully.paid**. \n",
    "\n",
    "Aqui está o que as colunas representam:\n",
    "* credit.policy: 1 se o cliente atender aos critérios de subscrição de crédito de LendingClub.com e 0 caso contrário.\n",
    "* propósito: A motivação para o empréstimo (recebe os valores \"credit_card\", \"debt_consolidation\", \"educational\", \"major_purchase\", \"small_business\" e \"all_other\").\n",
    "* int.rate: A taxa de juros do empréstimo, como proporção (uma taxa de 11% seria armazenada como 0,11). Os mutuários julgados pela LendingClub.com como sendo mais arriscados recebem taxas de juros mais altas.\n",
    "* parcela: as parcelas mensais devidas pelo mutuário, se o empréstimo for financiado.\n",
    "* log.annual.inc: O logaritmo natural da renda anual autorreferida do mutuário.\n",
    "* dti: O rácio dívida / rendimento do mutuário (montante da dívida dividido pelo rendimento anual).\n",
    "* fico: A pontuação de crédito do mutuário.\n",
    "* days.with.cr.line: O número de dias que o mutuário teve uma linha de crédito.\n",
    "* revol.bal: o saldo rotativo do mutuário (quantia não paga no final do ciclo de faturamento do cartão de crédito).\n",
    "* revol.util: A taxa de utilização da linha de crédito do tomador (o valor da linha de crédito utilizada em relação ao crédito total disponível).\n",
    "* inq.last.6mths: O número de pedidos do mutuário aos credores nos últimos 6 meses.\n",
    "* delinq.2yrs: O número de vezes que o mutuário tinha 30 ou mais dias de atraso em um pagamento nos últimos 2 anos.\n",
    "* pub.rec: O número de registros públicos depreciativos do mutuário (pedidos de falência, penhoras fiscais ou julgamentos)."
   ]
  },
  {
   "cell_type": "markdown",
   "metadata": {},
   "source": [
    "# Atividades\n",
    "\n",
    " * **1. Importe o data set chamado loan_data.csv**\n",
    "     * **1.1. Como está o balanceamento das classes?**\n",
    " * **2. Realize o tratamento que você julgar mais adequado aos dados**     \n",
    " * **3. Defina o modelo de [regressão logística](http://scikit-learn.org/stable/modules/generated/sklearn.linear_model.LogisticRegression.html) e realize a classificação **\n",
    " * **4. Defina o modelo de [árvore de decisão](http://scikit-learn.org/stable/modules/generated/sklearn.tree.DecisionTreeClassifier.html#sklearn.tree.DecisionTreeClassifier) e realize a classificação**\n",
    " * **5. Defina o modelo de [random forest](http://scikit-learn.org/stable/modules/generated/sklearn.ensemble.RandomForestClassifier.html#sklearn.ensemble.RandomForestClassifier) e realize a classificação**\n",
    "     * *5.1 Análise o tempo de criação dos modelos e o tempo de predição para uma nova amostra? Há diferenças significativas?*\n",
    "     * *5.2 Construa um dataframe, ou uma tabela, ou um gráfico com as features mais importantes e as features de maior coeficiente, para RL. As interpretações são semelhantes?*\n",
    "     * *5.3 [Plot a árvore de decisão](http://scikit-learn.org/stable/modules/tree.html), gerada no passo 4. Se você brincar com os parâmetros perceberá bias e o variance presente?*\n",
    " * **6. Adicione uma combinação aos parametros dos algoritmos com o GridSearch e aplique também o CrossValidation, cv=10**\n",
    " * **7. Quais os parâmetros dos algoritmos baseados em árvore podem provocar o overfitting e underfitting? Justique sua resposta com base em experimentos.**\n",
    " * *7.1 Faça uma tabela ou gráficos, no mínimo 2 gráficos com análise do bias vs variance, sobre os dados de treinamento e de teste, para um ou mais hiperparâmetros e/ou para a quantidade de amostras que mostra a evolução/erro do modelo (com base na métrica que você definir) a medida que novas amostras são passadas para ele. [Você pode utilizar curvas de aprendizagem para os gráficos](http://scikit-learn.org/stable/auto_examples/model_selection/plot_learning_curve.html#sphx-glr-auto-examples-model-selection-plot-learning-curve-py) *\n",
    " * **8. Vamos fazer algo diferente! Recupere as features mais importantes de um dos modelos baseado em árvore e treinar um novo modelo, de regressão logística, apenas com estas features. O modelo melhorou ou piorou? A métrica a ser avaliada deve ser a [área  sob a curva ROC](http://scikit-learn.org/stable/modules/generated/sklearn.metrics.roc_auc_score.html) **\n",
    " * *8.1 Outra forma interessante de propor uma processo de feature engineering, seria aplicar o PCA apenas sobre os dados numéricos e após isto aplicar os demais tratamento dos dados. Lembre-se de normalizar os dados antes de aplicar o PCA.\n",
    " * *8.2 Plot a área sob a [curva ROC](http://scikit-learn.org/stable/auto_examples/model_selection/plot_roc.html#sphx-glr-auto-examples-model-selection-plot-roc-py)*\n",
    " * **9. Como investidor você não quer emprestar o dinheiro para pessoas que não possam pagar, ou seja, você quer evitar a todo custo os maus pagadores, não importa o resto ... Qual a melhor métrica para avaliar? Qual o melhor modelo considerando esta métrica? **\n",
    " * **10. Construa um modelo ensemble com RL e Random Forest**"
   ]
  },
  {
   "cell_type": "markdown",
   "metadata": {},
   "source": [
    "# Great Job!"
   ]
  }
 ],
 "metadata": {
  "anaconda-cloud": {},
  "kernelspec": {
   "display_name": "Python [default]",
   "language": "python",
   "name": "python3"
  },
  "language_info": {
   "codemirror_mode": {
    "name": "ipython",
    "version": 3
   },
   "file_extension": ".py",
   "mimetype": "text/x-python",
   "name": "python",
   "nbconvert_exporter": "python",
   "pygments_lexer": "ipython3",
   "version": "3.5.2"
  }
 },
 "nbformat": 4,
 "nbformat_minor": 0
}
