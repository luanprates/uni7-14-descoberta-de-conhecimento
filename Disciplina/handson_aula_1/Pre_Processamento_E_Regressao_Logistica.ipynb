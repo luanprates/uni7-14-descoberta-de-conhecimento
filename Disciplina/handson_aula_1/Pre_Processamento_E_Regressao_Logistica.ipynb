{
 "cells": [
  {
   "cell_type": "markdown",
   "metadata": {},
   "source": [
    "# Pré-processamento dos dados e RL com Python\n",
    "\n",
    "Para este HandsOn vamos usar o [Data Set do Titanic disponível no Kaggle](https://www.kaggle.com/c/titanic). Este é um conjunto de dados muito famoso! \n",
    "\n",
    "Vamos tentar prever uma classificação de sobreviventes e não sobreviventes utilizando a implementação da Regressão Logística em Python para classificação. Mas antes disso vamos aplicar o processo de pré-processamento dos dados.\n",
    "\n",
    "Este data set já está parcialmente pré-processado, mas se quiser usar o conjunto de dados original, hospedado diretamente no Kaggle, será um desafio interessante =D.\n",
    "\n",
    "## O Dicionário de Dados\n",
    "\n",
    "**Survival**: Sobrevivente (Não=0,Sim=1)\n",
    "\n",
    "**Pclass**: Classe de ingresso (1=1st,2=2nd,3=3rd)\n",
    "\n",
    "**Sex**: Sexo\n",
    "\n",
    "**Age**: Idade em anos\n",
    "\n",
    "**Sibsp**: Quantidade de irmãos ou cônjuge a bordo do Titanic\n",
    "\n",
    "**Parch**: Quantidade de pais ou filhos a bordo do Titanic\n",
    "\n",
    "**Ticket**: Número do ticket\n",
    "\n",
    "**Fare**: Tarifa do passageiro\n",
    "\n",
    "**Cabin**: Número da cabine\t\n",
    "\n",
    "**Embarked**: Portão de Embarque (C=Cherbourg, Q=Queenstown, S=Southampton)\n",
    "\n"
   ]
  },
  {
   "cell_type": "markdown",
   "metadata": {},
   "source": [
    "## Import as bibliotecas\n",
    "Vamos importar algumas bibliotecas para começar!"
   ]
  },
  {
   "cell_type": "code",
   "execution_count": 2,
   "metadata": {
    "collapsed": false
   },
   "outputs": [],
   "source": [
    "import pandas as pd\n",
    "import numpy as np\n",
    "import matplotlib.pyplot as plt\n",
    "import seaborn as sns\n",
    "%matplotlib inline"
   ]
  },
  {
   "cell_type": "markdown",
   "metadata": {},
   "source": [
    "## Acessando os dados =D \n",
    "\n",
    "**Atividade:** Vamos iniciar lendo os dados através do pandas\n",
    "\n",
    "- Utilize a função **pd.read_csv** para ler o dado e salve na variável **train**\n",
    "- O nome do dataset é **titanic_train.csv**\n",
    "- Visualize alguns elementos do seu data set, para isto use **train.head()**\n"
   ]
  },
  {
   "cell_type": "markdown",
   "metadata": {},
   "source": [
    "# Feature engineering e exploração dos dados\n",
    "\n",
    "Vamos verificar verificar os dados que faltam!\n",
    "\n",
    "## Análise de atributos ausentes\n",
    "\n",
    "Podemos usar o seaborn para criar um mapa de calor simples para ver onde faltam dados!"
   ]
  },
  {
   "cell_type": "code",
   "execution_count": 5,
   "metadata": {
    "collapsed": false
   },
   "outputs": [
    {
     "data": {
      "text/plain": [
       "<matplotlib.axes._subplots.AxesSubplot at 0x17337161080>"
      ]
     },
     "execution_count": 5,
     "metadata": {},
     "output_type": "execute_result"
    },
    {
     "data": {
      "image/png": "[encoded data removed]",
      "text/plain": [
       "<matplotlib.figure.Figure at 0x173370d6908>"
      ]
     },
     "metadata": {},
     "output_type": "display_data"
    }
   ],
   "source": [
    "sns.heatmap(train.isnull(), yticklabels=False,cbar=False,cmap='viridis')"
   ]
  },
  {
   "cell_type": "markdown",
   "metadata": {},
   "source": [
    "Aproximadamente 20% dos dados correspondentes ao atributo Idade estão faltando. A proporção de Idade que falta é pequena o suficiente para inferirmos de alguma forma. Já a coluna Cabin, há muitos dados ausentes para fazermos algo útil com um nível básico *PS: Pode-se inferir esse valor com base no preço do ingresso e/ou portão de entrada, ...].*"
   ]
  },
  {
   "cell_type": "markdown",
   "metadata": {},
   "source": [
    "## Atividade\n",
    "* Plot os dados no countplot com a informação do SibSp\n",
    "\n",
    "* Plot os dados no countplot com a informação do Sex (veja a dica)\n",
    "\n",
    "* Plot os dados no countplot com a informação do Pclass (veja a dica)\n",
    "* *PS.:  Veja o exemplo abaixo*\n",
    "\n",
    "Quais insights você consegue observar a partir destes novos gráficos?\n",
    "\n",
    "(Dica: use o parâmetro hue)"
   ]
  },
  {
   "cell_type": "code",
   "execution_count": 28,
   "metadata": {
    "collapsed": false
   },
   "outputs": [
    {
     "data": {
      "text/plain": [
       "<matplotlib.axes._subplots.AxesSubplot at 0x173390afda0>"
      ]
     },
     "execution_count": 28,
     "metadata": {},
     "output_type": "execute_result"
    },
    {
     "data": {
      "image/png": "[encoded data removed]",
      "text/plain": [
       "<matplotlib.figure.Figure at 0x17339007198>"
      ]
     },
     "metadata": {},
     "output_type": "display_data"
    }
   ],
   "source": [
    "sns.set_style('whitegrid')\n",
    "sns.countplot(x='Survived',data=train)"
   ]
  },
  {
   "cell_type": "markdown",
   "metadata": {
    "collapsed": false
   },
   "source": [
    "## Atividade\n",
    "* Construa um histograma considerando as informações contidas no Fare\n",
    "\n",
    "Quais insights você consegue observar a partir destes gráficos?\n",
    "\n",
    "(Dica: veja o exemplo acima)"
   ]
  },
  {
   "cell_type": "code",
   "execution_count": 30,
   "metadata": {
    "collapsed": false
   },
   "outputs": [
    {
     "data": {
      "text/plain": [
       "<matplotlib.axes._subplots.AxesSubplot at 0x173393e2b38>"
      ]
     },
     "execution_count": 30,
     "metadata": {},
     "output_type": "execute_result"
    },
    {
     "data": {
      "image/png": "[encoded data removed]",
      "text/plain": [
       "<matplotlib.figure.Figure at 0x173390d85f8>"
      ]
     },
     "metadata": {},
     "output_type": "display_data"
    }
   ],
   "source": [
    "sns.distplot(train['Age'].dropna(),kde=False, bins=30)"
   ]
  },
  {
   "cell_type": "markdown",
   "metadata": {},
   "source": [
    "___\n",
    "## Data Cleaning\n",
    "\n",
    "Queremos preencher os dados que faltam em algumas amostras para o atributo Idade. Uma maneira de fazer isso é preencher com o valor da idade média de todos os passageiros. O que vocês acham? Há outra forma melhor de fazer? Vejam abaixo um exemplo de um box plot gráfico "
   ]
  },
  {
   "cell_type": "markdown",
   "metadata": {},
   "source": [
    "- para visualizar detalhes de uma coluna você pode usar **dataframe['coluna'].describe()**\n",
    "- para recuperar a média você pode utilizar a função **mean** sobre a coluna\n",
    "- *P.S.:* se você tem outro *approach* para preencher a coluna **Age** você criar uma função que retorne um valor para este valor, e posteriormente aplicar **df['column'] = df[['column']].apply(function, axis=1)**"
   ]
  },
  {
   "cell_type": "code",
   "execution_count": 26,
   "metadata": {
    "collapsed": false
   },
   "outputs": [
    {
     "data": {
      "text/plain": [
       "<matplotlib.axes._subplots.AxesSubplot at 0x17338fffc88>"
      ]
     },
     "execution_count": 26,
     "metadata": {},
     "output_type": "execute_result"
    },
    {
     "data": {
      "image/png": "[encoded data removed]",
      "text/plain": [
       "<matplotlib.figure.Figure at 0x17338dcf668>"
      ]
     },
     "metadata": {},
     "output_type": "display_data"
    }
   ],
   "source": [
    "#plt.figure(figsize=(12, 7))\n",
    "sns.boxplot(x='Pclass',y='Age',data=train,palette='winter')"
   ]
  },
  {
   "cell_type": "markdown",
   "metadata": {},
   "source": [
    "# Atividade\n",
    "\n",
    "- Qual insight você tem a partir desse gráfico?\n",
    "- Vamos fazer o input da coluna Age =D!?\n",
    "- Crie um novo mapa de calor\n",
    "   \n",
    "<!--\n",
    "def impute_age(cols):\n",
    "    Age = cols[0]\n",
    "    Pclass = cols[1]\n",
    "    \n",
    "    if pd.isnull(Age):\n",
    "\n",
    "        if Pclass == 1:\n",
    "            return 37\n",
    "\n",
    "        elif Pclass == 2:\n",
    "            return 29\n",
    "\n",
    "        else:\n",
    "            return 24\n",
    "\n",
    "    else:\n",
    "        return Age\n",
    "dataset['Age'] = dataset[['Age','Pclass']].apply(impute_age,axis=1)\n",
    "-->"
   ]
  },
  {
   "cell_type": "markdown",
   "metadata": {},
   "source": [
    "Ótimo! Vamos em frente ..."
   ]
  },
  {
   "cell_type": "markdown",
   "metadata": {
    "collapsed": false
   },
   "source": [
    "# Atividade\n",
    "\n",
    "* Elimine o atributo Cabin do nosso DataSet\n",
    "* Visualize os primeiros elementos do DF **train** sem o atributo cabine\n",
    "* Há ainda algum valor nulo? Vamos eliminá-lo! Para fazer isto use df.dropna(inplace=True)\n",
    "\n",
    "(Dica: use a função drop, por exemplo, df.drop('coluna',axis=1,inplace=True))\n",
    "\n",
    "<!--\n",
    "train.drop('Cabin',axis=1,inplace=True)\n",
    "--->\n"
   ]
  },
  {
   "cell_type": "markdown",
   "metadata": {},
   "source": [
    "## Feature transformation\n",
    "\n",
    "Precisamos converter atributos categóricos em variáveis numéricas usando pandas, a função **get_dummies** aplica o labelEncoding e OneHotEncoding!\n",
    "Caso contrário, nosso algoritmo de ML não será apto para trabalhar com recursos diretamente categóricos como entradas."
   ]
  },
  {
   "cell_type": "markdown",
   "metadata": {},
   "source": [
    "# Atividade\n",
    "\n",
    "* Veja o exemplo abaixo e refaça o mesmo processo para o atributo **Embarked**\n",
    "* Visualize como os seus dados estão ficando\n",
    "\n",
    "*PS: vc pode usar a função info() para visualizar informações do seu dataFrame*\n"
   ]
  },
  {
   "cell_type": "code",
   "execution_count": 59,
   "metadata": {
    "collapsed": false
   },
   "outputs": [],
   "source": [
    "sex = pd.get_dummies(train['Sex'],drop_first=True)"
   ]
  },
  {
   "cell_type": "code",
   "execution_count": 55,
   "metadata": {
    "collapsed": true
   },
   "outputs": [],
   "source": [
    "train.drop(['Sex'],axis=1,inplace=True)"
   ]
  },
  {
   "cell_type": "code",
   "execution_count": 57,
   "metadata": {
    "collapsed": false
   },
   "outputs": [],
   "source": [
    "train = pd.concat([train,sex],axis=1)"
   ]
  },
  {
   "cell_type": "markdown",
   "metadata": {},
   "source": [
    "# Atividade\n",
    "\n",
    "* Algum candidato para explicar o que o código acima fez?\n",
    "* Por quê não foram adicionadas as colunas \"Female\" e \"C\"?\n",
    "* Remova as colunas Name e Ticket."
   ]
  },
  {
   "cell_type": "markdown",
   "metadata": {},
   "source": [
    "Ótimo Trabalho! Nossos dados estão prontos já estão prontos para o nosso modelo? Alguma sugestão de mais transformações?\n",
    "\n",
    "\n",
    "# Construindo o modelo de Regressão Logística\n",
    "\n",
    "Vamos começar dividindo nossos dados em um conjunto de treinamento e conjunto de testes (há outro arquivo test.csv, caso você queira usar todos do treino para construção do seu modelo).\n",
    "\n",
    "\n",
    "## Divisão Test-Train"
   ]
  },
  {
   "cell_type": "code",
   "execution_count": 16,
   "metadata": {
    "collapsed": false
   },
   "outputs": [],
   "source": [
    "from scipy.misc import comb\n",
    "from sklearn.model_selection import train_test_split"
   ]
  },
  {
   "cell_type": "code",
   "execution_count": 17,
   "metadata": {
    "collapsed": false
   },
   "outputs": [],
   "source": [
    "X_train, X_test, y_train, y_test = train_test_split(train.drop('Survived',axis=1), \n",
    "                                                    train['Survived'], test_size=0.30, \n",
    "                                                    random_state=101)"
   ]
  },
  {
   "cell_type": "markdown",
   "metadata": {},
   "source": [
    "## Treinando e Classificando"
   ]
  },
  {
   "cell_type": "code",
   "execution_count": 18,
   "metadata": {
    "collapsed": true
   },
   "outputs": [],
   "source": [
    "from sklearn.linear_model import LogisticRegression"
   ]
  },
  {
   "cell_type": "code",
   "execution_count": 19,
   "metadata": {
    "collapsed": false
   },
   "outputs": [
    {
     "data": {
      "text/plain": [
       "LogisticRegression(C=1.0, class_weight=None, dual=False, fit_intercept=True,\n",
       "          intercept_scaling=1, max_iter=100, multi_class='ovr', n_jobs=1,\n",
       "          penalty='l2', random_state=None, solver='liblinear', tol=0.0001,\n",
       "          verbose=0, warm_start=False)"
      ]
     },
     "execution_count": 19,
     "metadata": {},
     "output_type": "execute_result"
    }
   ],
   "source": [
    "logmodel = LogisticRegression()\n",
    "logmodel.fit(X_train,y_train)"
   ]
  },
  {
   "cell_type": "code",
   "execution_count": 20,
   "metadata": {
    "collapsed": false
   },
   "outputs": [],
   "source": [
    "predictions = logmodel.predict(X_test)"
   ]
  },
  {
   "cell_type": "markdown",
   "metadata": {},
   "source": [
    "Vamos avaliar o nosso modelo e validar se ele atende as nossas KPI´s!"
   ]
  },
  {
   "cell_type": "markdown",
   "metadata": {},
   "source": [
    "## Avaliação"
   ]
  },
  {
   "cell_type": "markdown",
   "metadata": {},
   "source": [
    "Podemos verificar a precisão, o recall, o f1-score usando o relatório de classificação!"
   ]
  },
  {
   "cell_type": "code",
   "execution_count": 21,
   "metadata": {
    "collapsed": true
   },
   "outputs": [],
   "source": [
    "from sklearn.metrics import classification_report"
   ]
  },
  {
   "cell_type": "code",
   "execution_count": 22,
   "metadata": {
    "collapsed": false
   },
   "outputs": [
    {
     "name": "stdout",
     "output_type": "stream",
     "text": [
      "             precision    recall  f1-score   support\n",
      "\n",
      "          0       0.77      0.88      0.82       154\n",
      "          1       0.79      0.64      0.71       114\n",
      "\n",
      "avg / total       0.78      0.78      0.77       268\n",
      "\n"
     ]
    }
   ],
   "source": [
    "print(classification_report(y_test,predictions))"
   ]
  },
  {
   "cell_type": "markdown",
   "metadata": {},
   "source": [
    "Podemos verificar a matriz de confusão e extraírmos outras métricas"
   ]
  },
  {
   "cell_type": "code",
   "execution_count": 23,
   "metadata": {
    "collapsed": false
   },
   "outputs": [],
   "source": [
    "from sklearn.metrics import confusion_matrix"
   ]
  },
  {
   "cell_type": "code",
   "execution_count": 24,
   "metadata": {
    "collapsed": false
   },
   "outputs": [
    {
     "data": {
      "text/plain": [
       "array([[135,  19],\n",
       "       [ 41,  73]], dtype=int64)"
      ]
     },
     "execution_count": 24,
     "metadata": {},
     "output_type": "execute_result"
    }
   ],
   "source": [
    "confusion_matrix(y_test, predictions)"
   ]
  },
  {
   "cell_type": "markdown",
   "metadata": {},
   "source": [
    "## Atividades de casa ou não =D\n",
    "\n",
    "- Aplique o wrapper method (foward propagation) e análise como as métricas se comportaram\n",
    "- Qual feature foi a mais importante? E qual a mais irrelevante?\n",
    "- Que tal brincar com os hiperparametros e/ou fazer mais feature engineering?\n",
    "- Você e seu colega sobreviveriam ao naufrágio do Titanic?\n",
    "- Refaça o treinamento do modelo com todo o dataset train\n",
    "- Crie um pipeline para o pré-processamento de features\n",
    "- Aplique o pipeline sobre o dataset de titanic_test.csv e aplique \n",
    "- Que tal analisar uma nova solução candidata, por exemplo, Árvore de Decisão e fazer um benchmark ;)"
   ]
  },
  {
   "cell_type": "markdown",
   "metadata": {},
   "source": [
    "Data Science é o que há =D! \n",
    "\n",
    "Você pode querer explorar outras formas pré-processamento de dados ... fique a vontade =D!\n",
    "\n",
    "<!--\n",
    "* Normalização sobre as tarifas\n",
    "* Crie uma feature categorica com base na idade da pessoa\n",
    "* Aplique uma média considerando a primeira letra do bilhete \n",
    "* Talvez a cabine possa ser uma característica ... E se a cabine puder ser inferida? Como funcionava a divisão de cabines por classes ou idades ...\n",
    "* Existe alguma informação que você pode obter a partir do bilhete? Uma média \n",
    "\n",
    "-->\n",
    "\n",
    "## Great Job!"
   ]
  }
 ],
 "metadata": {
  "anaconda-cloud": {},
  "kernelspec": {
   "display_name": "Python [default]",
   "language": "python",
   "name": "python3"
  },
  "language_info": {
   "codemirror_mode": {
    "name": "ipython",
    "version": 3
   },
   "file_extension": ".py",
   "mimetype": "text/x-python",
   "name": "python",
   "nbconvert_exporter": "python",
   "pygments_lexer": "ipython3",
   "version": "3.5.2"
  }
 },
 "nbformat": 4,
 "nbformat_minor": 0
}
